{
 "cells": [
  {
   "cell_type": "code",
   "execution_count": 1,
   "metadata": {
    "collapsed": true,
    "pycharm": {
     "name": "#%%\n"
    }
   },
   "outputs": [],
   "source": [
    "import pandas as pd\n",
    "import re"
   ]
  },
  {
   "cell_type": "code",
   "execution_count": 2,
   "outputs": [],
   "source": [
    "train_path = \"../../data/emo/train.csv\"\n",
    "dev_path = \"../../data/emo/dev.csv\"\n",
    "test_path = \"../../data/emo/test.csv\"\n",
    "\n",
    "train_pd = pd.read_csv(train_path)\n",
    "dev_pd = pd.read_csv(dev_path)\n",
    "test_pd = pd.read_csv(test_path)"
   ],
   "metadata": {
    "collapsed": false,
    "pycharm": {
     "name": "#%%\n"
    }
   }
  },
  {
   "cell_type": "code",
   "execution_count": 11,
   "outputs": [
    {
     "data": {
      "text/plain": "'666  致敬疫情前线医护人员 你们辛苦了！愿平安！'"
     },
     "execution_count": 11,
     "metadata": {},
     "output_type": "execute_result"
    }
   ],
   "source": [
    "def remove(text):\n",
    "    # 去掉转发对象 回复对象\n",
    "    rule1 = re.compile(\"//@.*:|回复@.*:\")\n",
    "    # 去掉?展开全文c O网页链接 ...\n",
    "    rule2 = re.compile(\"\\?展开全文c|O网页链接\\?*|原标题：|转发微博|网易链接|查看图片\")\n",
    "    # 去掉 #,【】...\n",
    "    rule3 = re.compile(\"[#【】]\")\n",
    "    text = rule1.sub(\" \", text)\n",
    "    text = rule2.sub(\" \", text)\n",
    "    text = rule3.sub(\" \", text)\n",
    "    text = text.strip()\n",
    "    return text\n",
    "\n",
    "\n",
    "text1 = \"//@UNIQ-王一博:【666】#致敬疫情前线医护人员#你们辛苦了！愿平安！?展开全文c\"\n",
    "remove(text1)"
   ],
   "metadata": {
    "collapsed": false,
    "pycharm": {
     "name": "#%%\n"
    }
   }
  },
  {
   "cell_type": "code",
   "execution_count": 16,
   "outputs": [
    {
     "data": {
      "text/plain": "0        确诊患者粪便中检出病毒RNA阳性 童心最真挚，没有名利的争夺，没有沟心斗角，尔虞我诈的心机，...\n1        返程复工，连带高速加飞机，各种测体温登记信息，8个小时没摘口罩，感觉自己要窒息了。不敢想象医...\n2                     『实时更新|新型冠状病毒肺炎全国疫情地图』O实时更新|新冠肺炎疫情地图?\n3                                    致敬疫情前线医护人员 你们辛苦了！愿平安！\n4        治庸懒、强担当、树新风 双江县公安局扎实开展命案侦防法制宣教工作年关岁末，春节即将来临。为确...\n                               ...                        \n79925    《疫情防控个人有啥义务？拒绝隔离会怎样？法律规定→》“一个人，如果连自己的情绪都控制不了，即...\n79926      在城市的下水道里，会不会有老鼠参与病毒传播，穿山甲等的研究现实意义并不大！@人民日报@央视新闻\n79927                               一觉醒来就头晕头疼喉咙疼突然发烧爷也是服了?\n79928    ?1月16日早上好，以下是读报时间。1、教育部：2020年起取消自主招生，推出强基计划。2、...\n79929                                             明儿开始网上教学\nName: 微博中文内容, Length: 79930, dtype: object"
     },
     "execution_count": 16,
     "metadata": {},
     "output_type": "execute_result"
    }
   ],
   "source": [
    "text_pd = train_pd['微博中文内容'].astype('str')\n",
    "text_pd.apply(remove)"
   ],
   "metadata": {
    "collapsed": false,
    "pycharm": {
     "name": "#%%\n"
    }
   }
  },
  {
   "cell_type": "code",
   "execution_count": 18,
   "outputs": [
    {
     "data": {
      "text/plain": "(['abv'], [0])"
     },
     "execution_count": 18,
     "metadata": {},
     "output_type": "execute_result"
    }
   ],
   "source": [
    "def remove_null(text_list, labels):\n",
    "    _text_list = [item for item in text_list]\n",
    "    for index, item in enumerate(text_list):\n",
    "        if item.strip() == \"\":\n",
    "            del _text_list[index]\n",
    "            del labels[index]\n",
    "    return _text_list, labels\n",
    "\n",
    "text_list=[\"abv\",\"   \"]\n",
    "labels=[0,1]\n",
    "remove_null(text_list, labels)"
   ],
   "metadata": {
    "collapsed": false,
    "pycharm": {
     "name": "#%%\n"
    }
   }
  }
 ],
 "metadata": {
  "kernelspec": {
   "display_name": "Python 3",
   "language": "python",
   "name": "python3"
  },
  "language_info": {
   "codemirror_mode": {
    "name": "ipython",
    "version": 2
   },
   "file_extension": ".py",
   "mimetype": "text/x-python",
   "name": "python",
   "nbconvert_exporter": "python",
   "pygments_lexer": "ipython2",
   "version": "2.7.6"
  }
 },
 "nbformat": 4,
 "nbformat_minor": 0
}